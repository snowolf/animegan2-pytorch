{
 "cells": [
  {
   "cell_type": "markdown",
   "id": "1267d76c",
   "metadata": {},
   "source": [
    "Learn more about AnimeGANv2 here: https://github.com/bryandlee/animegan2-pytorch\n",
    "\n",
    "To start using this, run the cells with Ctrl+F9 or \"Runtime > Run All\"\n",
    "\n",
    "For accelerated inference, you can use a GPU. Simply select \"Runtime > Change runtime type\" and select \"GPU\" in the \"Hardware Acceleration\" dropdown."
   ]
  },
  {
   "cell_type": "markdown",
   "id": "85ec4263",
   "metadata": {},
   "source": [
    "# SageMaker BYOC"
   ]
  },
  {
   "cell_type": "code",
   "execution_count": null,
   "id": "4026e24e",
   "metadata": {},
   "outputs": [],
   "source": [
    "!aws ecr get-login-password --region us-west-2|docker login --username AWS --password-stdin 763104351884.dkr.ecr.us-west-2.amazonaws.com/pytorch-training:1.9.1-gpu-py38-cu111-ubuntu20.04"
   ]
  },
  {
   "cell_type": "code",
   "execution_count": null,
   "id": "992e771d",
   "metadata": {},
   "outputs": [],
   "source": [
    "%%sh\n",
    "\n",
    "# The name of our algorithm\n",
    "algorithm_name=sagemaker-animegan2-pytorch\n",
    "\n",
    "cd container\n",
    "\n",
    "chmod +x byoc/train\n",
    "chmod +x byoc/serve\n",
    "\n",
    "account=$(aws sts get-caller-identity --query Account --output text)\n",
    "\n",
    "# Get the region defined in the current configuration (default to us-west-2 if none defined)\n",
    "region=$(aws configure get region)\n",
    "region=${region:-cn-north-1}\n",
    "\n",
    "uri_suffix=\"amazonaws.com\"\n",
    "if [ \"$region\" == \"cn-north-1\" ] || [ \"$region\" == \"cn-northwest-1\" ]; then\n",
    "    uri_suffix=\"amazonaws.com.cn\"\n",
    "fi    \n",
    "\n",
    "fullname=\"${account}.dkr.ecr.${region}.${uri_suffix}/${algorithm_name}:byoc\"\n",
    "\n",
    "# If the repository doesn't exist in ECR, create it.\n",
    "aws ecr describe-repositories --repository-names \"${algorithm_name}\" > /dev/null 2>&1\n",
    "\n",
    "if [ $? -ne 0 ]\n",
    "then\n",
    "    aws ecr create-repository --repository-name \"${algorithm_name}\" > /dev/null\n",
    "fi\n",
    "\n",
    "# Get the login command from ECR and execute it directly\n",
    "aws ecr get-login-password --region ${region}|docker login --username AWS --password-stdin ${fullname}\n",
    "\n",
    "# Build the docker image locally with the image name and then push it to ECR\n",
    "# with the full name.\n",
    "\n",
    "docker build  -t ${algorithm_name} .\n",
    "docker tag ${algorithm_name} ${fullname}\n",
    "\n",
    "docker push ${fullname}"
   ]
  },
  {
   "cell_type": "code",
   "execution_count": null,
   "id": "ecc491b9",
   "metadata": {},
   "outputs": [],
   "source": [
    "# Define IAM role\n",
    "import boto3\n",
    "\n",
    "import os\n",
    "from sagemaker import get_execution_role\n",
    "import sagemaker as sage\n",
    "from time import gmtime, strftime\n",
    "\n",
    "sess = sage.Session()\n",
    "role = get_execution_role()"
   ]
  },
  {
   "cell_type": "code",
   "execution_count": null,
   "id": "818063a3",
   "metadata": {
    "scrolled": true
   },
   "outputs": [],
   "source": [
    "from sagemaker.model import Model\n",
    "from sagemaker.serializers import IdentitySerializer\n",
    "\n",
    "img_serializer = IdentitySerializer(content_type='image/png')\n",
    "\n",
    "endpoint_name = 'sagemaker-animegan2-pytorch' #SET_YOUR_ENDPOINT_NAME\n",
    "image = '169088282855.dkr.ecr.us-west-2.amazonaws.com/sagemaker-animegan2-pytorch:byoc' #SET_YOUR_IMAGE_URI which build above\n",
    "\n",
    "model = Model(image, role=role)\n",
    "endpoint = model.deploy(1, \"ml.g4dn.xlarge\", endpoint_name=endpoint_name, serializer=img_serializer)"
   ]
  },
  {
   "cell_type": "code",
   "execution_count": null,
   "id": "443a5f8c",
   "metadata": {},
   "outputs": [],
   "source": [
    "from sagemaker.predictor import Predictor\n",
    "img_serializer = IdentitySerializer(content_type='application/x-image')\n",
    "\n",
    "predictor = Predictor(endpoint_name, serializer=img_serializer)"
   ]
  },
  {
   "cell_type": "markdown",
   "id": "13784e97",
   "metadata": {},
   "source": [
    "-----"
   ]
  },
  {
   "cell_type": "code",
   "execution_count": null,
   "id": "39173e9b",
   "metadata": {},
   "outputs": [],
   "source": [
    "file_name = 'WangShishuai.png'\n",
    "with open(file_name, 'rb') as f:\n",
    "    payload = f.read()\n",
    "    payload = bytearray(payload)"
   ]
  },
  {
   "cell_type": "code",
   "execution_count": null,
   "id": "6b480174",
   "metadata": {},
   "outputs": [],
   "source": [
    "from io import BytesIO\n",
    "from PIL import Image\n",
    "\n",
    "result = predictor.predict(payload)\n",
    "\n",
    "bytes_stream = BytesIO(result)\n",
    "result_image = Image.open(bytes_stream)"
   ]
  },
  {
   "cell_type": "code",
   "execution_count": null,
   "id": "a47223fc",
   "metadata": {},
   "outputs": [],
   "source": [
    "display(result_image)"
   ]
  },
  {
   "cell_type": "code",
   "execution_count": null,
   "id": "f592705a",
   "metadata": {},
   "outputs": [],
   "source": []
  },
  {
   "cell_type": "code",
   "execution_count": null,
   "id": "67ed944e",
   "metadata": {},
   "outputs": [],
   "source": [
    "predictor.delete_endpoint()"
   ]
  }
 ],
 "metadata": {
  "kernelspec": {
   "display_name": "conda_python3",
   "language": "python",
   "name": "conda_python3"
  },
  "language_info": {
   "codemirror_mode": {
    "name": "ipython",
    "version": 3
   },
   "file_extension": ".py",
   "mimetype": "text/x-python",
   "name": "python",
   "nbconvert_exporter": "python",
   "pygments_lexer": "ipython3",
   "version": "3.6.13"
  }
 },
 "nbformat": 4,
 "nbformat_minor": 5
}
